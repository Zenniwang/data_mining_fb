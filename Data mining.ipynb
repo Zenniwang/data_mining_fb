{
 "cells": [
  {
   "cell_type": "code",
   "execution_count": 58,
   "metadata": {},
   "outputs": [],
   "source": [
    "ACCESS_TOKEN = 'HIDDEN!'"
   ]
  },
  {
   "cell_type": "code",
   "execution_count": 59,
   "metadata": {},
   "outputs": [
    {
     "name": "stdout",
     "output_type": "stream",
     "text": [
      "https://graph.facebook.com/me?fields=id,name,friends.fields(likes.limit(10))&access_token=",
      "{\n",
      " \"id\": \"10156270771000590\",\n",
      " \"name\": \"\\u738b\\u81fb\",\n",
      " \"friends\": {\n",
      "  \"data\": [],\n",
      "  \"summary\": {\n",
      "   \"total_count\": 122\n",
      "  }\n",
      " }\n",
      "}\n"
     ]
    }
   ],
   "source": [
    "import requests # pip install requests\n",
    "import json\n",
    "\n",
    "base_url = 'https://graph.facebook.com/me'\n",
    "\n",
    "# Get 10 likes for 10 friends\n",
    "fields = 'id,name,friends.fields(likes.limit(10))'\n",
    "\n",
    "url = '%s?fields=%s&access_token=%s' % \\\n",
    "    (base_url, fields, ACCESS_TOKEN,)\n",
    "\n",
    "# This API is HTTP-based and could be requested in the browser,\n",
    "# with a command line utlity like curl, or using just about\n",
    "# any programming language by making a request to the URL.\n",
    "# Click the hyperlink that appears in your notebook output\n",
    "# when you execute this code cell to see for yourself...\n",
    "print(url)\n",
    "\n",
    "# Interpret the response as JSON and convert back\n",
    "# to Python data structures\n",
    "content = requests.get(url).json()\n",
    "\n",
    "# Pretty-print the JSON and display it\n",
    "print(json.dumps(content, indent=1))"
   ]
  },
  {
   "cell_type": "code",
   "execution_count": null,
   "metadata": {},
   "outputs": [],
   "source": []
  },
  {
   "cell_type": "code",
   "execution_count": 60,
   "metadata": {},
   "outputs": [
    {
     "ename": "ModuleNotFoundError",
     "evalue": "No module named 'facebook'",
     "output_type": "error",
     "traceback": [
      "\u001b[1;31m---------------------------------------------------------------------------\u001b[0m",
      "\u001b[1;31mModuleNotFoundError\u001b[0m                       Traceback (most recent call last)",
      "\u001b[1;32m<ipython-input-60-bd58075c86ce>\u001b[0m in \u001b[0;36m<module>\u001b[1;34m()\u001b[0m\n\u001b[1;32m----> 1\u001b[1;33m \u001b[1;32mimport\u001b[0m \u001b[0mfacebook\u001b[0m\u001b[1;33m\u001b[0m\u001b[0m\n\u001b[0m\u001b[0;32m      2\u001b[0m \u001b[1;31m# pip install facebook-sdk\u001b[0m\u001b[1;33m\u001b[0m\u001b[1;33m\u001b[0m\u001b[0m\n\u001b[0;32m      3\u001b[0m \u001b[1;31m# using pip and virtualenv to install the SDK:\u001b[0m\u001b[1;33m\u001b[0m\u001b[1;33m\u001b[0m\u001b[0m\n\u001b[0;32m      4\u001b[0m \u001b[1;31m# Run\u001b[0m\u001b[1;33m\u001b[0m\u001b[1;33m\u001b[0m\u001b[0m\n\u001b[0;32m      5\u001b[0m \u001b[1;31m# virtualenv facebookenv\u001b[0m\u001b[1;33m\u001b[0m\u001b[1;33m\u001b[0m\u001b[0m\n",
      "\u001b[1;31mModuleNotFoundError\u001b[0m: No module named 'facebook'"
     ]
    }
   ],
   "source": [
    "import facebook \n",
    "# pip install facebook-sdk\n",
    "# using pip and virtualenv to install the SDK:\n",
    "# Run\n",
    "# virtualenv facebookenv\n",
    "# source facebookenv/bin/activate\n",
    "# pip install -e git+https://github.com/mobolic/facebook-sdk.git#egg=facebook-sdk\n",
    "\n",
    "import json\n",
    "\n",
    "# A helper function to pretty-print Python objects as JSON\n",
    "\n",
    "def pp(o): \n",
    "    print(json.dumps(o, indent=1))\n",
    "\n",
    "# Create a connection to the Graph API with your access token\n",
    "\n",
    "g = facebook.GraphAPI(ACCESS_TOKEN)\n",
    "\n",
    "# Execute a few sample queries\n",
    "\n",
    "print('---------------')\n",
    "print('Me')\n",
    "print('---------------')\n",
    "pp(g.get_object('me'))\n",
    "print()\n",
    "print('---------------')\n",
    "print('My Friends')\n",
    "print('---------------')\n",
    "pp(g.get_connections('me', 'friends'))\n",
    "print()\n",
    "print('---------------')\n",
    "print('Social Web')\n",
    "print('---------------')\n",
    "pp(g.request(\"search\", {'q' : 'social web', 'type' : 'page'}))"
   ]
  },
  {
   "cell_type": "code",
   "execution_count": null,
   "metadata": {},
   "outputs": [],
   "source": []
  }
 ],
 "metadata": {
  "kernelspec": {
   "display_name": "Python 3",
   "language": "python",
   "name": "python3"
  },
  "language_info": {
   "codemirror_mode": {
    "name": "ipython",
    "version": 3
   },
   "file_extension": ".py",
   "mimetype": "text/x-python",
   "name": "python",
   "nbconvert_exporter": "python",
   "pygments_lexer": "ipython3",
   "version": "3.6.5"
  }
 },
 "nbformat": 4,
 "nbformat_minor": 2
}
